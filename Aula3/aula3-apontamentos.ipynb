{
 "cells": [
  {
   "cell_type": "markdown",
   "metadata": {},
   "source": [
    "# Listas, Tuplas, Dicionários\n",
    "Aula 3 - 2024-07-19"
   ]
  },
  {
   "cell_type": "markdown",
   "metadata": {},
   "source": [
    "## Tipo de Dados - Listas"
   ]
  },
  {
   "cell_type": "markdown",
   "metadata": {},
   "source": [
    "### Listas"
   ]
  },
  {
   "cell_type": "code",
   "execution_count": 1,
   "metadata": {},
   "outputs": [
    {
     "name": "stdout",
     "output_type": "stream",
     "text": [
      "[6, 3, 4]\n"
     ]
    }
   ],
   "source": [
    "lista = [1, 2, 3, 'GIS', [6, 5, 4]]\n",
    "lista[4][1] = 3\n",
    "print(lista[4])"
   ]
  },
  {
   "cell_type": "markdown",
   "metadata": {},
   "source": [
    "### Tuplas"
   ]
  },
  {
   "cell_type": "code",
   "execution_count": 4,
   "metadata": {},
   "outputs": [
    {
     "name": "stdout",
     "output_type": "stream",
     "text": [
      "[1, 2, 3, 'GIS', [6, 9, 4]]\n"
     ]
    }
   ],
   "source": [
    "tuplas = lista\n",
    "tuplas[4][1] = 9\n",
    "print(tuplas)"
   ]
  },
  {
   "cell_type": "markdown",
   "metadata": {},
   "source": [
    "### Algumas operações com Listas"
   ]
  },
  {
   "cell_type": "code",
   "execution_count": 2,
   "metadata": {},
   "outputs": [
    {
     "name": "stdout",
     "output_type": "stream",
     "text": [
      "{1, 2, 4.5, 5.4, 100, 200, 'Marcos', 'rui', 'Joana'}\n"
     ]
    }
   ],
   "source": [
    "lista3 = ['rui', 1, 'Joana', 2, 4.5, 1, 'Joana', 5.4, 'Marcos', 100]\n",
    "conjunto_b = {'rui', 200, 4.5}\n",
    "conjunto = set(lista3)\n",
    "#print(conjunto)\n",
    "\n",
    "print(conjunto.union(conjunto_b)) # uni e não mostra valores repetidos"
   ]
  },
  {
   "cell_type": "markdown",
   "metadata": {},
   "source": [
    "## Tipo de Dados - Dicionário\n",
    "exemplo meuDict = { 'nome': 'João', 'idade': 21 } \n",
    "**My Obs**. Muito parecido com o Formato Json"
   ]
  },
  {
   "cell_type": "markdown",
   "metadata": {},
   "source": [
    "### Dicionário"
   ]
  },
  {
   "cell_type": "code",
   "execution_count": 10,
   "metadata": {},
   "outputs": [
    {
     "name": "stdout",
     "output_type": "stream",
     "text": [
      "{'Intituição': 'IEFP', 'UFCD': 10793}\n",
      "{'Intituição': 'IEFP'}\n",
      "{'Intituição': 'IEFP', 'Nome da UFCD': 'Programação Avançada com Python'}\n"
     ]
    }
   ],
   "source": [
    "a = {'Intituição': 'IEFP', 'Nome da UFCD': 'Fundamentos de Python', 'UFCD': 10793 }\n",
    "a.pop('Nome da UFCD') # remove o elemento com esta chave\n",
    "print(a)\n",
    "del a['UFCD'] # apaga o elemento através da chave\n",
    "print(a)\n",
    "a['Nome da UFCD'] = 'Programação Avançada com Python' # adiciona o elemento com a chave\n",
    "print(a)"
   ]
  },
  {
   "cell_type": "markdown",
   "metadata": {},
   "source": [
    "### União de Dicionários\n",
    "Noita: os objetos iguais não ficam repetidos"
   ]
  },
  {
   "cell_type": "code",
   "execution_count": 11,
   "metadata": {},
   "outputs": [
    {
     "name": "stdout",
     "output_type": "stream",
     "text": [
      "{'Intituição': 'IEFP', 'Nome da UFCD': 'Programação Avançada com Python', 'Nome da UFCD nível 2': 'Programação Avançada com Python', 'UFCD nr2': 10794}\n"
     ]
    }
   ],
   "source": [
    "b = {'Intituição': 'IEFP', 'Nome da UFCD nível 2': 'Programação Avançada com Python', 'UFCD nr2': 10794 }\n",
    "a.update(b)\n",
    "print(a)"
   ]
  },
  {
   "cell_type": "markdown",
   "metadata": {},
   "source": [
    "## Tipo de Dados Booleanos\n",
    "- Operadores Relacionais e Condicionais"
   ]
  },
  {
   "cell_type": "markdown",
   "metadata": {},
   "source": [
    "## Conceitos Genéricos de Programação\n",
    "- Contantes (não existe no Python)\n",
    "- Programação Condicional if/elif/else\n",
    "- **Atenção sempre a indentação**"
   ]
  },
  {
   "cell_type": "code",
   "execution_count": 18,
   "metadata": {},
   "outputs": [
    {
     "name": "stdout",
     "output_type": "stream",
     "text": [
      "Vou à praia\n",
      "Levo óculos escuros\n",
      "E faço surf\n"
     ]
    }
   ],
   "source": [
    "chuva = False\n",
    "vento = False\n",
    "Boas_Ondas = True\n",
    "\n",
    "if chuva :\n",
    "    print('Levo guarda-chuva')\n",
    "    print('Levo também Gabardine')\n",
    "elif vento: print ('Vou fazer Windsurf')\n",
    "else:\n",
    "    print('Vou à praia')\n",
    "    print('Levo óculos escuros')\n",
    "    if Boas_Ondas: print('E faço surf')\n"
   ]
  }
 ],
 "metadata": {
  "kernelspec": {
   "display_name": "Python 3",
   "language": "python",
   "name": "python3"
  },
  "language_info": {
   "codemirror_mode": {
    "name": "ipython",
    "version": 3
   },
   "file_extension": ".py",
   "mimetype": "text/x-python",
   "name": "python",
   "nbconvert_exporter": "python",
   "pygments_lexer": "ipython3",
   "version": "3.12.4"
  }
 },
 "nbformat": 4,
 "nbformat_minor": 2
}
