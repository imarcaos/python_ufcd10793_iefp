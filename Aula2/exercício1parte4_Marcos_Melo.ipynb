{
 "cells": [
  {
   "cell_type": "markdown",
   "metadata": {},
   "source": [
    "## Jupyter Aula 2 17/07/2024\n",
    "### exercício 1 parte 4"
   ]
  },
  {
   "cell_type": "markdown",
   "metadata": {},
   "source": [
    "Página 92"
   ]
  },
  {
   "cell_type": "code",
   "execution_count": 1,
   "metadata": {},
   "outputs": [
    {
     "name": "stdout",
     "output_type": "stream",
     "text": [
      "8\n",
      "2\n",
      "125\n",
      "25\n"
     ]
    }
   ],
   "source": [
    "a = 5\n",
    "b = 3\n",
    "print(a+b) # 8\n",
    "print(a-b) # 2\n",
    "print(a**b) # 15\n",
    "print(a**2) # 25"
   ]
  },
  {
   "cell_type": "code",
   "execution_count": 2,
   "metadata": {},
   "outputs": [
    {
     "name": "stdout",
     "output_type": "stream",
     "text": [
      "1.6666666666666667\n",
      "<class 'float'>\n",
      "1.6666666666666667\n",
      "2\n"
     ]
    }
   ],
   "source": [
    "c = a/b\n",
    "print(c) # 1.66666666666667\n",
    "print(type(c)) # <class 'float'>\n",
    "print(a/b) # 1\n",
    "print(a%b) # 2"
   ]
  },
  {
   "cell_type": "markdown",
   "metadata": {},
   "source": [
    "Página 95"
   ]
  },
  {
   "cell_type": "code",
   "execution_count": 3,
   "metadata": {},
   "outputs": [
    {
     "name": "stdout",
     "output_type": "stream",
     "text": [
      "<class 'str'>\n",
      "6\n",
      "y\n",
      "Pyt\n",
      "n\n"
     ]
    }
   ],
   "source": [
    "a = 'Python'\n",
    "print (type(a))\n",
    "print (len(a))\n",
    "print (a[1])\n",
    "print (a[0:3])\n",
    "print (a[-1])"
   ]
  },
  {
   "cell_type": "markdown",
   "metadata": {},
   "source": [
    "Página 96"
   ]
  },
  {
   "cell_type": "code",
   "execution_count": 4,
   "metadata": {},
   "outputs": [
    {
     "name": "stdout",
     "output_type": "stream",
     "text": [
      "Python=>Fofinho\n",
      "PythonPython\n",
      "PYTHON\n",
      "python\n",
      "Python=>Fofinho\n",
      "-1\n",
      "Python=>Fofinho\n",
      "Python=>Fofinho\n",
      "['Python=>Fofinho']\n"
     ]
    }
   ],
   "source": [
    "a = 'Python'\n",
    "b = '=>'\n",
    "c = 'Fofinho'\n",
    "print(a+b+c)\n",
    "print(a*2)\n",
    "print(a.upper())\n",
    "print(a.lower())\n",
    "d = a+b+c\n",
    "print(d)\n",
    "print(d.find('->'))\n",
    "f = d.replace('->', ' é ')\n",
    "print(d)\n",
    "print(f)\n",
    "print(d.split('->'))"
   ]
  }
 ],
 "metadata": {
  "kernelspec": {
   "display_name": "Python 3",
   "language": "python",
   "name": "python3"
  },
  "language_info": {
   "codemirror_mode": {
    "name": "ipython",
    "version": 3
   },
   "file_extension": ".py",
   "mimetype": "text/x-python",
   "name": "python",
   "nbconvert_exporter": "python",
   "pygments_lexer": "ipython3",
   "version": "3.12.4"
  }
 },
 "nbformat": 4,
 "nbformat_minor": 2
}
