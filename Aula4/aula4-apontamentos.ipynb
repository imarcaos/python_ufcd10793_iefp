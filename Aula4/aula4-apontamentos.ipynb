{
 "cells": [
  {
   "cell_type": "markdown",
   "metadata": {},
   "source": [
    "#Aula 4 - 23/07/2024\n",
    "- Funções\n",
    "- Iteradores"
   ]
  },
  {
   "cell_type": "markdown",
   "metadata": {},
   "source": [
    "## Sintaxe de uma função\n",
    "Def <name> (arg1, arg2, ..., argN):\n",
    "\t<statement>\n",
    "\treturn <values>  #optional"
   ]
  },
  {
   "cell_type": "markdown",
   "metadata": {},
   "source": [
    "## Exemplo de uma função:"
   ]
  },
  {
   "cell_type": "code",
   "execution_count": 1,
   "metadata": {},
   "outputs": [
    {
     "name": "stdout",
     "output_type": "stream",
     "text": [
      "26.573129251700685\n"
     ]
    }
   ],
   "source": [
    "def calculo_imc(peso, altura):\n",
    "    print(peso / altura ** 2)\n",
    "calculo_imc(75, 1.68)"
   ]
  },
  {
   "cell_type": "markdown",
   "metadata": {},
   "source": [
    "## Variáveis Globais"
   ]
  },
  {
   "cell_type": "code",
   "execution_count": 15,
   "metadata": {},
   "outputs": [
    {
     "name": "stdout",
     "output_type": "stream",
     "text": [
      "multiplicação: 6\n",
      "adição: 27\n",
      "Variável 'a' com Valor Global e 'b' Local 10 3\n"
     ]
    }
   ],
   "source": [
    "#Uso de variáveis globais por atribuição  \n",
    "def soma():\t\n",
    "\tglobal a # permite altera-la globalmente\n",
    "\tb = 25   # alterou localmente\n",
    "\tprint ('adição:', a+b)\n",
    "\ta = 10\n",
    "def main():  \n",
    "\tprint ('multiplicação:', a*b)  \n",
    "\tsoma()  \n",
    "a = 2  \n",
    "b = 3  \n",
    "if __name__ == '__main__':  \n",
    "\tmain()\n",
    "print(\"Variável 'a' com Valor Global e 'b' Local\", a, b)"
   ]
  },
  {
   "cell_type": "markdown",
   "metadata": {},
   "source": [
    "## Iteradores"
   ]
  },
  {
   "cell_type": "code",
   "execution_count": null,
   "metadata": {},
   "outputs": [],
   "source": [
    "#Iteração através do ciclo for a  \n",
    "#percorrer listas  \n",
    "a = [[1,2,3],[4,5,6],[7,8,9]]  \n",
    "for i in a:  \n",
    "\tprint (i)"
   ]
  },
  {
   "cell_type": "code",
   "execution_count": 16,
   "metadata": {},
   "outputs": [
    {
     "name": "stdout",
     "output_type": "stream",
     "text": [
      "1\n",
      "2\n",
      "3\n",
      "1\n",
      "2\n",
      "3\n",
      "one\n",
      "two\n",
      "1\n",
      "2\n",
      "3\n"
     ]
    }
   ],
   "source": [
    "for element in [1, 2, 3]:  \n",
    "\tprint(element)  \n",
    "for element in (1, 2, 3):  \n",
    "\tprint(element)  \n",
    "for key in {'one':1, 'two':2}:  \n",
    "\tprint(key)  \n",
    "for char in \"123\":  \n",
    "\tprint(char)"
   ]
  }
 ],
 "metadata": {
  "kernelspec": {
   "display_name": "Python 3",
   "language": "python",
   "name": "python3"
  },
  "language_info": {
   "codemirror_mode": {
    "name": "ipython",
    "version": 3
   },
   "file_extension": ".py",
   "mimetype": "text/x-python",
   "name": "python",
   "nbconvert_exporter": "python",
   "pygments_lexer": "ipython3",
   "version": "3.12.4"
  }
 },
 "nbformat": 4,
 "nbformat_minor": 2
}
