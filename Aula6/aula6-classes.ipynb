{
 "cells": [
  {
   "cell_type": "code",
   "execution_count": 2,
   "metadata": {},
   "outputs": [
    {
     "name": "stdout",
     "output_type": "stream",
     "text": [
      " MENU\n",
      "        1- Jogar\n",
      "        2- Mostrar Resultados\n",
      "        3- Sair\n",
      "        \n",
      "Entrei no Jogo\n",
      "Resposta errada, consulte as opções no menu\n",
      " MENU\n",
      "        1- Jogar\n",
      "        2- Mostrar Resultados\n",
      "        3- Sair\n",
      "        \n",
      "Os resultados são: Venceu!\n",
      "Resposta errada, consulte as opções no menu\n",
      " MENU\n",
      "        1- Jogar\n",
      "        2- Mostrar Resultados\n",
      "        3- Sair\n",
      "        \n",
      "Obrigado volte sempre\n"
     ]
    }
   ],
   "source": [
    "while True:\n",
    "    print(\"\"\" MENU\n",
    "        1- Jogar\n",
    "        2- Mostrar Resultados\n",
    "        3- Sair\n",
    "        \"\"\")\n",
    "    resposta = int(input(\"Coleque um nr: \")) # Casting string to int\n",
    "    if resposta == 1: print(\"Entrei no Jogo\")\n",
    "    if resposta == 2: print(\"Os resultados são: Venceu!\")\n",
    "    if resposta == 3:\n",
    "        print(\"Obrigado volte sempre\")\n",
    "        break\n",
    "    else: print(\"Resposta errada, consulte as opções no menu\")"
   ]
  }
 ],
 "metadata": {
  "kernelspec": {
   "display_name": "Python 3",
   "language": "python",
   "name": "python3"
  },
  "language_info": {
   "codemirror_mode": {
    "name": "ipython",
    "version": 3
   },
   "file_extension": ".py",
   "mimetype": "text/x-python",
   "name": "python",
   "nbconvert_exporter": "python",
   "pygments_lexer": "ipython3",
   "version": "3.12.4"
  }
 },
 "nbformat": 4,
 "nbformat_minor": 2
}
